{
 "metadata": {
  "language_info": {
   "codemirror_mode": {
    "name": "ipython",
    "version": 3
   },
   "file_extension": ".py",
   "mimetype": "text/x-python",
   "name": "python",
   "nbconvert_exporter": "python",
   "pygments_lexer": "ipython3",
   "version": "3.8.6-final"
  },
  "orig_nbformat": 2,
  "kernelspec": {
   "name": "Python 3.8.6 64-bit",
   "display_name": "Python 3.8.6 64-bit",
   "metadata": {
    "interpreter": {
     "hash": "5e30f844b0b4ae6d5e3035e13c27a4d367dfbcf51d6fc6ca1c30cfd09af165d0"
    }
   }
  }
 },
 "nbformat": 4,
 "nbformat_minor": 2,
 "cells": [
  {
   "source": [
    "# Pandas\n",
    "WOrk with Tabular Data i.e. **Data Sets**  \n",
    "seaborn also used Pandas **DataFrame** Behind the Scenes"
   ],
   "cell_type": "markdown",
   "metadata": {}
  },
  {
   "cell_type": "code",
   "execution_count": 2,
   "metadata": {},
   "outputs": [],
   "source": [
    "import pandas as pd\n",
    "import numpy as np"
   ]
  },
  {
   "source": [
    "## DataFrames\n",
    "We can directly Create DataFrames out of dicts"
   ],
   "cell_type": "markdown",
   "metadata": {}
  },
  {
   "cell_type": "code",
   "execution_count": 12,
   "metadata": {},
   "outputs": [],
   "source": [
    "userData = {\n",
    "    \"SubA\" :np.random.randint(0,101,10),\n",
    "    \"SubB\" :np.random.randint(0,101,10),\n",
    "    \"SubC\" :np.random.randint(0,101,10),\n",
    "    \"SubD\" :np.random.randint(0,101,10),\n",
    "    \"SubE\" :np.random.randint(0,101,10)\n",
    "}"
   ]
  },
  {
   "cell_type": "code",
   "execution_count": 23,
   "metadata": {},
   "outputs": [
    {
     "output_type": "execute_result",
     "data": {
      "text/plain": [
       "{'SubA': array([ 43, 100,  34,  17,  69,   4,  45,  21,  85,  68]),\n",
       " 'SubB': array([26, 87, 23, 94, 94, 13,  6, 85, 21, 57]),\n",
       " 'SubC': array([54, 33, 71, 71, 61,  5, 13, 66,  8, 93]),\n",
       " 'SubD': array([57, 16, 73, 30, 68, 28, 21, 35, 71, 85]),\n",
       " 'SubE': array([49, 59, 19, 31, 87, 12, 27, 27, 68, 69])}"
      ]
     },
     "metadata": {},
     "execution_count": 23
    }
   ],
   "source": [
    "# userDF = pd.DataFrame(userData,dtype = \"float32\")\n",
    "userDF = pd.DataFrame(userData)\n",
    "userData"
   ]
  },
  {
   "cell_type": "code",
   "execution_count": 16,
   "metadata": {},
   "outputs": [
    {
     "output_type": "execute_result",
     "data": {
      "text/plain": [
       "   SubA  SubB  SubC  SubD  SubE\n",
       "0    43    26    54    57    49\n",
       "1   100    87    33    16    59\n",
       "2    34    23    71    73    19\n",
       "3    17    94    71    30    31\n",
       "4    69    94    61    68    87"
      ],
      "text/html": "<div>\n<style scoped>\n    .dataframe tbody tr th:only-of-type {\n        vertical-align: middle;\n    }\n\n    .dataframe tbody tr th {\n        vertical-align: top;\n    }\n\n    .dataframe thead th {\n        text-align: right;\n    }\n</style>\n<table border=\"1\" class=\"dataframe\">\n  <thead>\n    <tr style=\"text-align: right;\">\n      <th></th>\n      <th>SubA</th>\n      <th>SubB</th>\n      <th>SubC</th>\n      <th>SubD</th>\n      <th>SubE</th>\n    </tr>\n  </thead>\n  <tbody>\n    <tr>\n      <th>0</th>\n      <td>43</td>\n      <td>26</td>\n      <td>54</td>\n      <td>57</td>\n      <td>49</td>\n    </tr>\n    <tr>\n      <th>1</th>\n      <td>100</td>\n      <td>87</td>\n      <td>33</td>\n      <td>16</td>\n      <td>59</td>\n    </tr>\n    <tr>\n      <th>2</th>\n      <td>34</td>\n      <td>23</td>\n      <td>71</td>\n      <td>73</td>\n      <td>19</td>\n    </tr>\n    <tr>\n      <th>3</th>\n      <td>17</td>\n      <td>94</td>\n      <td>71</td>\n      <td>30</td>\n      <td>31</td>\n    </tr>\n    <tr>\n      <th>4</th>\n      <td>69</td>\n      <td>94</td>\n      <td>61</td>\n      <td>68</td>\n      <td>87</td>\n    </tr>\n  </tbody>\n</table>\n</div>"
     },
     "metadata": {},
     "execution_count": 16
    }
   ],
   "source": [
    "userDF.head()"
   ]
  },
  {
   "cell_type": "code",
   "execution_count": 22,
   "metadata": {},
   "outputs": [
    {
     "output_type": "stream",
     "name": "stdout",
     "text": [
      "Index(['SubA', 'SubB', 'SubC', 'SubD', 'SubE'], dtype='object')\n"
     ]
    }
   ],
   "source": [
    "print(userDF.columns)"
   ]
  },
  {
   "cell_type": "code",
   "execution_count": 27,
   "metadata": {},
   "outputs": [],
   "source": [
    "userDF.to_csv('marks.csv')"
   ]
  },
  {
   "cell_type": "code",
   "execution_count": 4,
   "metadata": {},
   "outputs": [
    {
     "output_type": "stream",
     "name": "stdout",
     "text": [
      "   Unnamed: 0  SubA  SubB  SubC  SubD  SubE\n0           0    43    26    54    57    49\n1           1   100    87    33    16    59\n2           2    34    23    71    73    19\n3           3    17    94    71    30    31\n4           4    69    94    61    68    87\n5           5     4    13     5    28    12\n6           6    45     6    13    21    27\n7           7    21    85    66    35    27\n8           8    85    21     8    71    68\n9           9    68    57    93    85    69\n"
     ]
    }
   ],
   "source": [
    "myData = pd.read_csv('marks.csv')\n",
    "print(myData)\n"
   ]
  },
  {
   "cell_type": "code",
   "execution_count": 5,
   "metadata": {},
   "outputs": [
    {
     "output_type": "stream",
     "name": "stdout",
     "text": [
      "   SubA  SubB  SubC  SubD  SubE\n0    43    26    54    57    49\n1   100    87    33    16    59\n2    34    23    71    73    19\n3    17    94    71    30    31\n4    69    94    61    68    87\n5     4    13     5    28    12\n6    45     6    13    21    27\n7    21    85    66    35    27\n8    85    21     8    71    68\n9    68    57    93    85    69\n"
     ]
    }
   ],
   "source": [
    "myData=myData.drop(columns=['Unnamed: 0'])\n",
    "print(myData)"
   ]
  },
  {
   "source": [
    "## Pandas Basics - 2 "
   ],
   "cell_type": "markdown",
   "metadata": {}
  },
  {
   "cell_type": "code",
   "execution_count": 6,
   "metadata": {},
   "outputs": [
    {
     "output_type": "execute_result",
     "data": {
      "text/plain": [
       "             SubA       SubB       SubC       SubD       SubE\n",
       "count   10.000000  10.000000  10.000000  10.000000  10.000000\n",
       "mean    48.600000  50.600000  47.500000  48.400000  44.800000\n",
       "std     31.209685  36.457586  30.747177  25.051946  25.143146\n",
       "min      4.000000   6.000000   5.000000  16.000000  12.000000\n",
       "25%     24.250000  21.500000  18.000000  28.500000  27.000000\n",
       "50%     44.000000  41.500000  57.500000  46.000000  40.000000\n",
       "75%     68.750000  86.500000  69.750000  70.250000  65.750000\n",
       "max    100.000000  94.000000  93.000000  85.000000  87.000000"
      ],
      "text/html": "<div>\n<style scoped>\n    .dataframe tbody tr th:only-of-type {\n        vertical-align: middle;\n    }\n\n    .dataframe tbody tr th {\n        vertical-align: top;\n    }\n\n    .dataframe thead th {\n        text-align: right;\n    }\n</style>\n<table border=\"1\" class=\"dataframe\">\n  <thead>\n    <tr style=\"text-align: right;\">\n      <th></th>\n      <th>SubA</th>\n      <th>SubB</th>\n      <th>SubC</th>\n      <th>SubD</th>\n      <th>SubE</th>\n    </tr>\n  </thead>\n  <tbody>\n    <tr>\n      <th>count</th>\n      <td>10.000000</td>\n      <td>10.000000</td>\n      <td>10.000000</td>\n      <td>10.000000</td>\n      <td>10.000000</td>\n    </tr>\n    <tr>\n      <th>mean</th>\n      <td>48.600000</td>\n      <td>50.600000</td>\n      <td>47.500000</td>\n      <td>48.400000</td>\n      <td>44.800000</td>\n    </tr>\n    <tr>\n      <th>std</th>\n      <td>31.209685</td>\n      <td>36.457586</td>\n      <td>30.747177</td>\n      <td>25.051946</td>\n      <td>25.143146</td>\n    </tr>\n    <tr>\n      <th>min</th>\n      <td>4.000000</td>\n      <td>6.000000</td>\n      <td>5.000000</td>\n      <td>16.000000</td>\n      <td>12.000000</td>\n    </tr>\n    <tr>\n      <th>25%</th>\n      <td>24.250000</td>\n      <td>21.500000</td>\n      <td>18.000000</td>\n      <td>28.500000</td>\n      <td>27.000000</td>\n    </tr>\n    <tr>\n      <th>50%</th>\n      <td>44.000000</td>\n      <td>41.500000</td>\n      <td>57.500000</td>\n      <td>46.000000</td>\n      <td>40.000000</td>\n    </tr>\n    <tr>\n      <th>75%</th>\n      <td>68.750000</td>\n      <td>86.500000</td>\n      <td>69.750000</td>\n      <td>70.250000</td>\n      <td>65.750000</td>\n    </tr>\n    <tr>\n      <th>max</th>\n      <td>100.000000</td>\n      <td>94.000000</td>\n      <td>93.000000</td>\n      <td>85.000000</td>\n      <td>87.000000</td>\n    </tr>\n  </tbody>\n</table>\n</div>"
     },
     "metadata": {},
     "execution_count": 6
    }
   ],
   "source": [
    "myData.describe()"
   ]
  },
  {
   "cell_type": "code",
   "execution_count": 8,
   "metadata": {},
   "outputs": [
    {
     "output_type": "stream",
     "name": "stdout",
     "text": [
      "   SubA  SubB  SubC  SubD  SubE\n7    21    85    66    35    27\n8    85    21     8    71    68\n9    68    57    93    85    69\n"
     ]
    }
   ],
   "source": [
    "myData.tail(n=3)"
   ]
  },
  {
   "cell_type": "code",
   "execution_count": 13,
   "metadata": {},
   "outputs": [
    {
     "output_type": "execute_result",
     "data": {
      "text/plain": [
       "SubA    85\n",
       "SubB    21\n",
       "SubC     8\n",
       "SubD    71\n",
       "SubE    68\n",
       "Name: 8, dtype: int64"
      ]
     },
     "metadata": {},
     "execution_count": 13
    }
   ],
   "source": [
    "# Accessing PArticular Row by its index\n",
    "myData.iloc[8]"
   ]
  },
  {
   "cell_type": "code",
   "execution_count": 15,
   "metadata": {},
   "outputs": [
    {
     "output_type": "execute_result",
     "data": {
      "text/plain": [
       "85"
      ]
     },
     "metadata": {},
     "execution_count": 15
    }
   ],
   "source": [
    "# Accessing particular row and Cell\n",
    "myData.iloc[8,0] # myData.iloc[8][0]"
   ]
  },
  {
   "cell_type": "code",
   "execution_count": 19,
   "metadata": {},
   "outputs": [
    {
     "output_type": "execute_result",
     "data": {
      "text/plain": [
       "2"
      ]
     },
     "metadata": {},
     "execution_count": 19
    }
   ],
   "source": [
    "# Get index of an specific column\n",
    "idx = myData.columns.get_loc('SubC')\n",
    "idx"
   ]
  },
  {
   "cell_type": "code",
   "execution_count": 24,
   "metadata": {},
   "outputs": [
    {
     "output_type": "execute_result",
     "data": {
      "text/plain": [
       "71"
      ]
     },
     "metadata": {},
     "execution_count": 24
    }
   ],
   "source": [
    "myData.iloc[3,idx]"
   ]
  },
  {
   "cell_type": "code",
   "execution_count": 27,
   "metadata": {},
   "outputs": [
    {
     "output_type": "execute_result",
     "data": {
      "text/plain": [
       "SubC    71\n",
       "SubB    94\n",
       "Name: 3, dtype: int64"
      ]
     },
     "metadata": {},
     "execution_count": 27
    }
   ],
   "source": [
    "# Printing multiple cols \n",
    "# making a list of col indices\n",
    "idx = [myData.columns.get_loc('SubC'),myData.columns.get_loc('SubB')]\n",
    "myData.iloc[3,idx]"
   ]
  },
  {
   "cell_type": "code",
   "execution_count": 36,
   "metadata": {},
   "outputs": [
    {
     "output_type": "execute_result",
     "data": {
      "text/plain": [
       "0    57\n",
       "1    16\n",
       "2    73\n",
       "3    30\n",
       "4    68\n",
       "5    28\n",
       "6    21\n",
       "7    35\n",
       "8    71\n",
       "9    85\n",
       "Name: SubD, dtype: int64"
      ]
     },
     "metadata": {},
     "execution_count": 36
    }
   ],
   "source": [
    "# Slicing\n",
    "myData.iloc[:,3]"
   ]
  },
  {
   "source": [
    "### Sorting by specific values"
   ],
   "cell_type": "markdown",
   "metadata": {}
  },
  {
   "cell_type": "code",
   "execution_count": 43,
   "metadata": {},
   "outputs": [
    {
     "output_type": "execute_result",
     "data": {
      "text/plain": [
       "   SubA  SubB  SubC  SubD  SubE\n",
       "5     4    13     5    28    12\n",
       "8    85    21     8    71    68\n",
       "6    45     6    13    21    27\n",
       "1   100    87    33    16    59\n",
       "0    43    26    54    57    49\n",
       "4    69    94    61    68    87\n",
       "7    21    85    66    35    27\n",
       "3    17    94    71    30    31\n",
       "2    34    23    71    73    19\n",
       "9    68    57    93    85    69"
      ],
      "text/html": "<div>\n<style scoped>\n    .dataframe tbody tr th:only-of-type {\n        vertical-align: middle;\n    }\n\n    .dataframe tbody tr th {\n        vertical-align: top;\n    }\n\n    .dataframe thead th {\n        text-align: right;\n    }\n</style>\n<table border=\"1\" class=\"dataframe\">\n  <thead>\n    <tr style=\"text-align: right;\">\n      <th></th>\n      <th>SubA</th>\n      <th>SubB</th>\n      <th>SubC</th>\n      <th>SubD</th>\n      <th>SubE</th>\n    </tr>\n  </thead>\n  <tbody>\n    <tr>\n      <th>5</th>\n      <td>4</td>\n      <td>13</td>\n      <td>5</td>\n      <td>28</td>\n      <td>12</td>\n    </tr>\n    <tr>\n      <th>8</th>\n      <td>85</td>\n      <td>21</td>\n      <td>8</td>\n      <td>71</td>\n      <td>68</td>\n    </tr>\n    <tr>\n      <th>6</th>\n      <td>45</td>\n      <td>6</td>\n      <td>13</td>\n      <td>21</td>\n      <td>27</td>\n    </tr>\n    <tr>\n      <th>1</th>\n      <td>100</td>\n      <td>87</td>\n      <td>33</td>\n      <td>16</td>\n      <td>59</td>\n    </tr>\n    <tr>\n      <th>0</th>\n      <td>43</td>\n      <td>26</td>\n      <td>54</td>\n      <td>57</td>\n      <td>49</td>\n    </tr>\n    <tr>\n      <th>4</th>\n      <td>69</td>\n      <td>94</td>\n      <td>61</td>\n      <td>68</td>\n      <td>87</td>\n    </tr>\n    <tr>\n      <th>7</th>\n      <td>21</td>\n      <td>85</td>\n      <td>66</td>\n      <td>35</td>\n      <td>27</td>\n    </tr>\n    <tr>\n      <th>3</th>\n      <td>17</td>\n      <td>94</td>\n      <td>71</td>\n      <td>30</td>\n      <td>31</td>\n    </tr>\n    <tr>\n      <th>2</th>\n      <td>34</td>\n      <td>23</td>\n      <td>71</td>\n      <td>73</td>\n      <td>19</td>\n    </tr>\n    <tr>\n      <th>9</th>\n      <td>68</td>\n      <td>57</td>\n      <td>93</td>\n      <td>85</td>\n      <td>69</td>\n    </tr>\n  </tbody>\n</table>\n</div>"
     },
     "metadata": {},
     "execution_count": 43
    }
   ],
   "source": [
    "# By Default Ascending for descending ascending = False\n",
    "\n",
    "# by : Priority List\n",
    "\n",
    "\n",
    "myData.sort_values(by=['SubC','SubD'],ascending = True)"
   ]
  },
  {
   "cell_type": "code",
   "execution_count": 48,
   "metadata": {},
   "outputs": [
    {
     "output_type": "stream",
     "name": "stdout",
     "text": [
      "[[ 43  26  54  57  49]\n [100  87  33  16  59]\n [ 34  23  71  73  19]\n [ 17  94  71  30  31]\n [ 69  94  61  68  87]\n [  4  13   5  28  12]\n [ 45   6  13  21  27]\n [ 21  85  66  35  27]\n [ 85  21   8  71  68]\n [ 68  57  93  85  69]]\n"
     ]
    }
   ],
   "source": [
    "# To Numpy Array\n",
    "dataArray  = myData.values\n",
    "print(dataArray)"
   ]
  },
  {
   "cell_type": "code",
   "execution_count": 47,
   "metadata": {},
   "outputs": [
    {
     "output_type": "stream",
     "name": "stdout",
     "text": [
      "<class 'pandas.core.frame.DataFrame'>\n(10, 5)\n"
     ]
    }
   ],
   "source": [
    "print(type(myData))\n",
    "print(myData.shape)"
   ]
  },
  {
   "source": [
    "### Numpy Array's to DataFrame"
   ],
   "cell_type": "markdown",
   "metadata": {}
  },
  {
   "cell_type": "code",
   "execution_count": 49,
   "metadata": {},
   "outputs": [],
   "source": [
    "df = pd.DataFrame(dataArray,columns = ['Physics','Chem','Maths','CS','English'])"
   ]
  },
  {
   "cell_type": "code",
   "execution_count": 50,
   "metadata": {},
   "outputs": [
    {
     "output_type": "execute_result",
     "data": {
      "text/plain": [
       "   Physics  Chem  Maths  CS  English\n",
       "0       43    26     54  57       49\n",
       "1      100    87     33  16       59\n",
       "2       34    23     71  73       19\n",
       "3       17    94     71  30       31\n",
       "4       69    94     61  68       87\n",
       "5        4    13      5  28       12\n",
       "6       45     6     13  21       27\n",
       "7       21    85     66  35       27\n",
       "8       85    21      8  71       68\n",
       "9       68    57     93  85       69"
      ],
      "text/html": "<div>\n<style scoped>\n    .dataframe tbody tr th:only-of-type {\n        vertical-align: middle;\n    }\n\n    .dataframe tbody tr th {\n        vertical-align: top;\n    }\n\n    .dataframe thead th {\n        text-align: right;\n    }\n</style>\n<table border=\"1\" class=\"dataframe\">\n  <thead>\n    <tr style=\"text-align: right;\">\n      <th></th>\n      <th>Physics</th>\n      <th>Chem</th>\n      <th>Maths</th>\n      <th>CS</th>\n      <th>English</th>\n    </tr>\n  </thead>\n  <tbody>\n    <tr>\n      <th>0</th>\n      <td>43</td>\n      <td>26</td>\n      <td>54</td>\n      <td>57</td>\n      <td>49</td>\n    </tr>\n    <tr>\n      <th>1</th>\n      <td>100</td>\n      <td>87</td>\n      <td>33</td>\n      <td>16</td>\n      <td>59</td>\n    </tr>\n    <tr>\n      <th>2</th>\n      <td>34</td>\n      <td>23</td>\n      <td>71</td>\n      <td>73</td>\n      <td>19</td>\n    </tr>\n    <tr>\n      <th>3</th>\n      <td>17</td>\n      <td>94</td>\n      <td>71</td>\n      <td>30</td>\n      <td>31</td>\n    </tr>\n    <tr>\n      <th>4</th>\n      <td>69</td>\n      <td>94</td>\n      <td>61</td>\n      <td>68</td>\n      <td>87</td>\n    </tr>\n    <tr>\n      <th>5</th>\n      <td>4</td>\n      <td>13</td>\n      <td>5</td>\n      <td>28</td>\n      <td>12</td>\n    </tr>\n    <tr>\n      <th>6</th>\n      <td>45</td>\n      <td>6</td>\n      <td>13</td>\n      <td>21</td>\n      <td>27</td>\n    </tr>\n    <tr>\n      <th>7</th>\n      <td>21</td>\n      <td>85</td>\n      <td>66</td>\n      <td>35</td>\n      <td>27</td>\n    </tr>\n    <tr>\n      <th>8</th>\n      <td>85</td>\n      <td>21</td>\n      <td>8</td>\n      <td>71</td>\n      <td>68</td>\n    </tr>\n    <tr>\n      <th>9</th>\n      <td>68</td>\n      <td>57</td>\n      <td>93</td>\n      <td>85</td>\n      <td>69</td>\n    </tr>\n  </tbody>\n</table>\n</div>"
     },
     "metadata": {},
     "execution_count": 50
    }
   ],
   "source": [
    "df"
   ]
  },
  {
   "cell_type": "code",
   "execution_count": 51,
   "metadata": {},
   "outputs": [],
   "source": [
    "df.to_csv('pcm.csv')"
   ]
  },
  {
   "cell_type": "code",
   "execution_count": 53,
   "metadata": {},
   "outputs": [],
   "source": [
    "# To avpid storing indices\n",
    "df.to_csv( 'newPCM.csv',index = False)"
   ]
  },
  {
   "cell_type": "code",
   "execution_count": null,
   "metadata": {},
   "outputs": [],
   "source": []
  }
 ]
}