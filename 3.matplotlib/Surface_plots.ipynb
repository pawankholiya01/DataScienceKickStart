{
 "metadata": {
  "language_info": {
   "codemirror_mode": {
    "name": "ipython",
    "version": 3
   },
   "file_extension": ".py",
   "mimetype": "text/x-python",
   "name": "python",
   "nbconvert_exporter": "python",
   "pygments_lexer": "ipython3",
   "version": "3.8.6-final"
  },
  "orig_nbformat": 2,
  "kernelspec": {
   "name": "python38664bit9b9312e19871469b84640eb4ce115091",
   "display_name": "Python 3.8.6 64-bit"
  }
 },
 "nbformat": 4,
 "nbformat_minor": 2,
 "cells": [
  {
   "source": [
    "# Surface Plots\n",
    "Like one of Gradient Decent"
   ],
   "cell_type": "markdown",
   "metadata": {}
  },
  {
   "source": [
    "from mpl_toolkits.mplot3d import Axes3d\n",
    "import matplotlib.pyplot as plt \n",
    "import numpy as np"
   ],
   "cell_type": "code",
   "metadata": {},
   "execution_count": null,
   "outputs": []
  },
  {
   "cell_type": "code",
   "execution_count": null,
   "metadata": {},
   "outputs": [],
   "source": [
    "a = np.array([1,3,5])\n",
    "b = np.array([2,4,6,8])"
   ]
  },
  {
   "cell_type": "code",
   "execution_count": null,
   "metadata": {},
   "outputs": [],
   "source": [
    "\n",
    "# Repeats A rowwise till length of B and\n",
    "# Repeats B Columnwise till length of A, returns both same dimentions array\n",
    "a,b = np.meshgrid(a,b)\n",
    "a,b"
   ]
  },
  {
   "cell_type": "code",
   "execution_count": null,
   "metadata": {},
   "outputs": [],
   "source": [
    "fig = plt.figure()\n",
    "axes = fig.gca(projection ='3d')\n",
    "axes.plot_surface(a,b,a+b,cmap='coolwarm')\n",
    "plt.show()"
   ]
  },
  {
   "cell_type": "code",
   "execution_count": null,
   "metadata": {},
   "outputs": [],
   "source": [
    "# MORE COMPLEX SHAPES\n",
    "\n",
    "a = np.arange(-1,1,0.02)\n",
    "b = a\n",
    "\n",
    "a,b = np.meshgrid(a,b)\n"
   ]
  },
  {
   "cell_type": "code",
   "execution_count": null,
   "metadata": {},
   "outputs": [],
   "source": [
    "fig = plt.figure();\n",
    "axes = fig.gca(projection='3d')\n",
    "axes.plot_surface(a,b,a**2+b**2,cmap='rainbow') # experiment with z to get some great plots\n",
    "plt.show()"
   ]
  },
  {
   "source": [
    "## Contour plots"
   ],
   "cell_type": "markdown",
   "metadata": {}
  },
  {
   "cell_type": "code",
   "execution_count": null,
   "metadata": {},
   "outputs": [],
   "source": [
    "fig = plt.figure()\n",
    "axes = fig.gca(projection='3d')\n",
    "\n",
    "axes.contour(a,b,a**2+b**2,cmap='rainbow') # experiment with z to get some great plots\n",
    "plt.show()"
   ]
  },
  {
   "cell_type": "code",
   "execution_count": null,
   "metadata": {},
   "outputs": [],
   "source": []
  },
  {
   "cell_type": "code",
   "execution_count": null,
   "metadata": {},
   "outputs": [],
   "source": []
  }
 ]
}